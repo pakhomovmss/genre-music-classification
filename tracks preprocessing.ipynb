{
 "cells": [
  {
   "cell_type": "markdown",
   "metadata": {},
   "source": [
    "# Tracks preprocessing"
   ]
  },
  {
   "cell_type": "markdown",
   "metadata": {},
   "source": [
    "В данном ноутбуке выполняется предобработка музыкальных отрывков для их будущей классификации по жанрам (блюз, поп, диско, рок и т.д.). Из каждого музыкального отрывка выделяется основной признак, на основе которого будет выполнена классификация, - мел-частотные кепстральные коэффициенты.\n",
    "Появилось предположение, что такой метод будет более точным нежели метод на основе свёрточных нейронных сетей, примененных к спектрограммам, поскольку он имеет ФИЗИЧЕСКУЮ обоснованность.\n",
    "Проверим."
   ]
  },
  {
   "cell_type": "code",
   "execution_count": 1,
   "metadata": {},
   "outputs": [],
   "source": [
    "import os\n",
    "import json\n",
    "import sklearn\n",
    "import numpy as np\n",
    "import librosa as lr\n",
    "import librosa.display\n",
    "import IPython.display as ipd\n",
    "import matplotlib.pyplot as plt"
   ]
  },
  {
   "cell_type": "code",
   "execution_count": 2,
   "metadata": {},
   "outputs": [],
   "source": [
    "# загрузка музыкального трека из указанного пути\n",
    "\n",
    "def get_data(path):\n",
    "    signal, sr = lr.load(path)\n",
    "    return signal, sr"
   ]
  },
  {
   "cell_type": "code",
   "execution_count": 3,
   "metadata": {},
   "outputs": [],
   "source": [
    "# заполнение словаря соответствия жанров и их идентификаторов\n",
    "\n",
    "def fill_genres(path):\n",
    "    genre_list = os.listdir(path)\n",
    "    return dict(zip(genre_list, np.arange(0, len(genre_list)).tolist()))"
   ]
  },
  {
   "cell_type": "code",
   "execution_count": 4,
   "metadata": {},
   "outputs": [],
   "source": [
    "# получение жанра трека или идентификатора\n",
    "\n",
    "def get_genre_or_label(path, vocab, flag):\n",
    "    if flag == 'label':\n",
    "        return vocab.get(path.split('\\\\')[5])\n",
    "    else:\n",
    "        return path.split('\\\\')[5]"
   ]
  },
  {
   "cell_type": "code",
   "execution_count": 5,
   "metadata": {},
   "outputs": [],
   "source": [
    "# получение мел-частотных кепстральных коэффициентов для трека\n",
    "\n",
    "def get_mfcc(file, n_fft, hop_length, n_mfcc):\n",
    "    mfcc = lr.feature.mfcc(get_data(file)[0], n_fft=n_fft, hop_length=hop_length, n_mfcc=n_mfcc)\n",
    "    mfcc = mfcc.T\n",
    "    \n",
    "    return mfcc.tolist()"
   ]
  },
  {
   "cell_type": "code",
   "execution_count": 6,
   "metadata": {},
   "outputs": [],
   "source": [
    "# добавление MFCC и кодов жанров в словарь\n",
    "\n",
    "def get_files(path, number, vocab, genres_vocab):\n",
    "    for (address, dirs, files) in os.walk(path):\n",
    "        for ind, file in enumerate(files):\n",
    "            if ind < number:\n",
    "                vocab['mfcc'].append(get_mfcc(address + '\\\\' + file, 2048, 512, 13))\n",
    "                vocab['labels'].append(get_genre_or_label(address + '\\\\' + file, genres_vocab, flag='label'))"
   ]
  },
  {
   "cell_type": "code",
   "execution_count": 7,
   "metadata": {},
   "outputs": [],
   "source": [
    "PATH = \"E:\\\\Data Science\\\\Datasets\\\\Music Genre Classification\\\\genres_original\\\\\""
   ]
  },
  {
   "cell_type": "code",
   "execution_count": 8,
   "metadata": {},
   "outputs": [],
   "source": [
    "data = {'mfcc' : [], \n",
    "       'labels' : []}"
   ]
  },
  {
   "cell_type": "code",
   "execution_count": 9,
   "metadata": {},
   "outputs": [
    {
     "data": {
      "text/plain": [
       "{'blues': 0,\n",
       " 'classical': 1,\n",
       " 'country': 2,\n",
       " 'data.json': 3,\n",
       " 'disco': 4,\n",
       " 'hiphop': 5,\n",
       " 'jazz': 6,\n",
       " 'metal': 7,\n",
       " 'pop': 8,\n",
       " 'reggae': 9,\n",
       " 'rock': 10}"
      ]
     },
     "execution_count": 9,
     "metadata": {},
     "output_type": "execute_result"
    }
   ],
   "source": [
    "genres = fill_genres(PATH)\n",
    "\n",
    "genres"
   ]
  },
  {
   "cell_type": "code",
   "execution_count": 11,
   "metadata": {},
   "outputs": [],
   "source": [
    "get_files(PATH, 10, data, genres)"
   ]
  },
  {
   "cell_type": "code",
   "execution_count": 24,
   "metadata": {},
   "outputs": [],
   "source": [
    "# заполненный словарь запишем в json файл для хранения\n",
    "\n",
    "with open(PATH + 'data.json', \"w\") as f_data:\n",
    "    json.dump(data, f_data, indent=4)"
   ]
  }
 ],
 "metadata": {
  "kernelspec": {
   "display_name": "Python 3",
   "language": "python",
   "name": "python3"
  },
  "language_info": {
   "codemirror_mode": {
    "name": "ipython",
    "version": 3
   },
   "file_extension": ".py",
   "mimetype": "text/x-python",
   "name": "python",
   "nbconvert_exporter": "python",
   "pygments_lexer": "ipython3",
   "version": "3.7.4"
  }
 },
 "nbformat": 4,
 "nbformat_minor": 2
}
